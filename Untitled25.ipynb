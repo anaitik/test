{
  "nbformat": 4,
  "nbformat_minor": 0,
  "metadata": {
    "colab": {
      "provenance": []
    },
    "kernelspec": {
      "name": "python3",
      "display_name": "Python 3"
    },
    "language_info": {
      "name": "python"
    }
  },
  "cells": [
    {
      "cell_type": "code",
      "execution_count": null,
      "metadata": {
        "colab": {
          "base_uri": "https://localhost:8080/"
        },
        "id": "R65dOvmQGlLb",
        "outputId": "e1e68398-fb96-4f70-ba30-0264c759dc6e"
      },
      "outputs": [
        {
          "output_type": "stream",
          "name": "stderr",
          "text": [
            "[nltk_data] Downloading package punkt to /root/nltk_data...\n",
            "[nltk_data]   Package punkt is already up-to-date!\n",
            "[nltk_data] Downloading package words to /root/nltk_data...\n",
            "[nltk_data]   Package words is already up-to-date!\n"
          ]
        },
        {
          "name": "stdout",
          "output_type": "stream",
          "text": [
            "Enter a sentence: we dont\n"
          ]
        },
        {
          "output_type": "stream",
          "name": "stderr",
          "text": [
            "The attention mask and the pad token id were not set. As a consequence, you may observe unexpected behavior. Please pass your input's `attention_mask` to obtain reliable results.\n",
            "Setting `pad_token_id` to `eos_token_id`:50256 for open-end generation.\n"
          ]
        },
        {
          "output_type": "stream",
          "name": "stdout",
          "text": [
            "Healed sentence: we dont\n",
            "Generated text: we dont know what to do with this. I'm not sure if it's a good idea to\n"
          ]
        }
      ],
      "source": [
        "!pip install nltk\n",
        "!pip install transformers\n",
        "!pip install torch\n",
        "import nltk\n",
        "from nltk.tokenize import word_tokenize\n",
        "import difflib\n",
        "import torch\n",
        "from transformers import GPT2LMHeadModel, GPT2Tokenizer\n",
        "\n",
        "# Download the necessary NLTK resources if not already downloaded\n",
        "nltk.download('punkt')\n",
        "nltk.download('words')\n",
        "\n",
        "# Load the GPT-2 model and tokenizer\n",
        "model = GPT2LMHeadModel.from_pretrained('gpt2')\n",
        "tokenizer = GPT2Tokenizer.from_pretrained('gpt2')\n",
        "\n",
        "# Set the device to use (e.g., 'cuda' for GPU or 'cpu' for CPU)\n",
        "device = torch.device('cuda' if torch.cuda.is_available() else 'cpu')\n",
        "model.to(device)\n",
        "model.eval()\n",
        "\n",
        "def heal_token(token):\n",
        "    # Check if the token is a valid word or needs healing\n",
        "    if is_valid_word(token):\n",
        "        return token\n",
        "    else:\n",
        "        best_match = get_best_match(token)\n",
        "        if best_match is not None:\n",
        "            return best_match\n",
        "        else:\n",
        "            return token\n",
        "\n",
        "def is_valid_word(token):\n",
        "    # Check if the token is a valid word\n",
        "    return token in nltk.corpus.words.words()\n",
        "\n",
        "def get_best_match(token):\n",
        "    matches = difflib.get_close_matches(token, nltk.corpus.words.words(), n=1, cutoff=0.8)\n",
        "    if matches:\n",
        "        return matches[0]\n",
        "    else:\n",
        "        return None\n",
        "\n",
        "def token_healing(text):\n",
        "    # Tokenize the input text into a list of tokens\n",
        "    tokens = word_tokenize(text)\n",
        "\n",
        "    # Iterate over each token and perform token healing\n",
        "    for i in range(len(tokens)):\n",
        "        tokens[i] = heal_token(tokens[i])\n",
        "\n",
        "    # Check if the last token is a punctuation mark\n",
        "    if tokens and tokens[-1] == ',':\n",
        "        tokens[-1] = '?'\n",
        "\n",
        "    # Reconstruct the healed text from the tokens\n",
        "    healed_text = ' '.join(tokens)\n",
        "\n",
        "    return healed_text\n",
        "\n",
        "# Prompt the user to enter a sentence\n",
        "input_text = input(\"Enter a sentence: \")\n",
        "\n",
        "# Perform token healing on the input\n",
        "healed_text = token_healing(input_text)\n",
        "\n",
        "# Tokenize the healed text\n",
        "input_ids = tokenizer.encode(healed_text, add_special_tokens=True, return_tensors='pt').to(device)\n",
        "\n",
        "# Generate missing words using the language model\n",
        "with torch.no_grad():\n",
        "    output = model.generate(input_ids, max_length=20, num_return_sequences=1)\n",
        "\n",
        "# Decode the generated output\n",
        "generated_text = tokenizer.decode(output[0], skip_special_tokens=True)\n",
        "\n",
        "print(\"Healed sentence:\", healed_text)\n",
        "print(\"Generated text:\", generated_text)\n"
      ]
    },
    {
      "cell_type": "code",
      "source": [],
      "metadata": {
        "id": "1DB2ARtQW7Nh"
      },
      "execution_count": null,
      "outputs": []
    }
  ]
}